{
 "cells": [
  {
   "cell_type": "markdown",
   "id": "651cdf47-ef1c-4b9d-a59c-b0b9f82953e0",
   "metadata": {},
   "source": [
    "## Module 2 Project - Amanda Hanway"
   ]
  },
  {
   "cell_type": "markdown",
   "id": "5d0214e4-d87d-49af-947f-133d98e418c6",
   "metadata": {},
   "source": [
    "### Self check exercises"
   ]
  },
  {
   "cell_type": "code",
   "execution_count": 1,
   "id": "7c3b8a17-5177-46ab-8469-a6a10ac1849d",
   "metadata": {},
   "outputs": [
    {
     "name": "stdin",
     "output_type": "stream",
     "text": [
      "Enter first integer:  1\n",
      "Enter second integer:  1\n"
     ]
    },
    {
     "name": "stdout",
     "output_type": "stream",
     "text": [
      "Total: 1 + 1 = 2\n"
     ]
    }
   ],
   "source": [
    "##### 3.3 Pseudocode self check #####\n",
    "# prompt the user to enter first int\n",
    "n1 = int(input('Enter first integer: '))\n",
    "\n",
    "# prompt for 2nd int\n",
    "n2 = int(input('Enter second integer: '))\n",
    "\n",
    "# add first and second int, store their sum\n",
    "total = n1 + n2\n",
    "\n",
    "# display ints and sum\n",
    "print('Total:', n1, '+', n2, '=', total)\n"
   ]
  },
  {
   "cell_type": "code",
   "execution_count": 2,
   "id": "e76b7cc3-54b0-4981-930a-8a73fd274c54",
   "metadata": {},
   "outputs": [
    {
     "name": "stdout",
     "output_type": "stream",
     "text": [
      "Passed\n",
      "Grade was 55 - Failed\n"
     ]
    }
   ],
   "source": [
    "##### 3.5 if Statement self check #####\n",
    "grade = 85\n",
    "if grade >= 60:\n",
    "    print('Passed')\n",
    "\n",
    "grade = 55\n",
    "if grade >= 60:\n",
    "    print('Grade was', grade, '- Passed')\n",
    "else:\n",
    "    print('Grade was', grade, '- Failed')"
   ]
  },
  {
   "cell_type": "code",
   "execution_count": 3,
   "id": "cbbee888-efbf-4262-be75-d2f2bf5cd717",
   "metadata": {},
   "outputs": [
    {
     "data": {
      "text/plain": [
       "\"\\ngrade = 80\\nif grade >= 90:\\n    print('A')\\nelse: \\n    print('Not A or B')\\nelif grade >= 80:\\n    print('B')\\n\""
      ]
     },
     "execution_count": 3,
     "metadata": {},
     "output_type": "execute_result"
    }
   ],
   "source": [
    "##### 3.6 if/else/elif Statements self check #####\n",
    "# show that a syntaxerror occurs if an if...elif statement specifies an else before last elif\n",
    "'''\n",
    "grade = 80\n",
    "if grade >= 90:\n",
    "    print('A')\n",
    "else: \n",
    "    print('Not A or B')\n",
    "elif grade >= 80:\n",
    "    print('B')\n",
    "'''"
   ]
  },
  {
   "cell_type": "code",
   "execution_count": 4,
   "id": "77d63403-1176-4790-8c86-0a8e9da3bb94",
   "metadata": {},
   "outputs": [
    {
     "data": {
      "text/plain": [
       "2401"
      ]
     },
     "execution_count": 4,
     "metadata": {},
     "output_type": "execute_result"
    }
   ],
   "source": [
    "##### 3.7 while Statement self check ##### \n",
    "# write statements to determine the first power of 7 greater than 1000\n",
    "product = 7\n",
    "while product <= 1000:\n",
    "    product = product * 7\n",
    "product"
   ]
  },
  {
   "cell_type": "code",
   "execution_count": 5,
   "id": "8003cba8-59cf-4f67-bf02-e083a38232ef",
   "metadata": {},
   "outputs": [
    {
     "data": {
      "text/plain": [
       "500000500000"
      ]
     },
     "execution_count": 5,
     "metadata": {},
     "output_type": "execute_result"
    }
   ],
   "source": [
    "##### 3.8 for Statement self check ##### \n",
    "# use range and for statement to calculate total of ints from 0-1000000\n",
    "total = 0\n",
    "for x in range(1000001):\n",
    "    total += x\n",
    "total"
   ]
  },
  {
   "cell_type": "code",
   "execution_count": 6,
   "id": "bc590cb4-10f8-434c-9fbb-1486693f6b4a",
   "metadata": {},
   "outputs": [
    {
     "data": {
      "text/plain": [
       "144"
      ]
     },
     "execution_count": 6,
     "metadata": {},
     "output_type": "execute_result"
    }
   ],
   "source": [
    "##### 3.9 Augmented Assignments self check ##### \n",
    "# create var x with value 12. use exponentiation augmented assignment staatement to square x's value\n",
    "x = 12\n",
    "x **=2\n",
    "x"
   ]
  },
  {
   "cell_type": "code",
   "execution_count": 7,
   "id": "f8f0e4e6-7f3e-4ea4-9bb1-b9d4bdb5b961",
   "metadata": {},
   "outputs": [
    {
     "name": "stdout",
     "output_type": "stream",
     "text": [
      "Class average: 81.7\n",
      "7 times 5 is 35\n"
     ]
    }
   ],
   "source": [
    "##### 3.10 Program Development: Sequence-Controlled Iteration self check ##### \n",
    "# set total to 0 and grade counter to 0\n",
    "total = 0\n",
    "counter = 0\n",
    "\n",
    "# set grades to a list of the 10 grades\n",
    "grades = [98, 76, 71, 87, 83, 90, 57, 79, 82, 94]\n",
    "\n",
    "# for each grade, add the grade to the total and add one to the counter\n",
    "for g in grades: \n",
    "    total += g\n",
    "    counter += 1\n",
    "\n",
    "# set class avg to the total divided by number of grades, and display\n",
    "classAvg = total / counter\n",
    "print(f'Class average: {classAvg}')\n",
    "\n",
    "number1 = 7\n",
    "number2 = 5\n",
    "product = number1 * number2\n",
    "print(f'{number1} times {number2} is {product}')\n"
   ]
  },
  {
   "cell_type": "code",
   "execution_count": 8,
   "id": "02f752e1-b124-4b16-9091-69bde0d6a972",
   "metadata": {},
   "outputs": [
    {
     "name": "stdout",
     "output_type": "stream",
     "text": [
      "99 88 77 66 55 44 33 22 11 0 "
     ]
    },
    {
     "data": {
      "text/plain": [
       "2550"
      ]
     },
     "execution_count": 8,
     "metadata": {},
     "output_type": "execute_result"
    }
   ],
   "source": [
    "##### 3.13 Built-In Function range: A Deeper Look self check ##### \n",
    "for n in range(10, 0, 2):\n",
    "    print(n, end=' ')\n",
    "\n",
    "# use for statement, range, and print to display on one line the sequence of values 99 88 77 66 55 44 33 22 11 0\n",
    "for num in range(99, -1, -11):\n",
    "    print(num, end=' ') \n",
    "\n",
    "# use for and range to sum even ints from 2-100 and display\n",
    "n = 0\n",
    "for nbr in range(2, 102, 2):\n",
    "    n += nbr\n",
    "n    "
   ]
  },
  {
   "cell_type": "code",
   "execution_count": 9,
   "id": "2c655313-8fdc-4ada-9153-549eef7f5158",
   "metadata": {},
   "outputs": [
    {
     "name": "stdout",
     "output_type": "stream",
     "text": [
      "Total: $39.79\n"
     ]
    }
   ],
   "source": [
    "##### 3.14 Using Type Decimal for Monetary Amounts self check ##### \n",
    "# tax = 6.25%, bill = $37.45, calculate total and print with 2 decimal digits\n",
    "from decimal import Decimal\n",
    "bill = 37.45\n",
    "tax = 0.0625\n",
    "total = bill + (bill * tax)\n",
    "print(f'Total: ${total:.2f}')"
   ]
  },
  {
   "cell_type": "code",
   "execution_count": 10,
   "id": "5d0aabbe-0740-4024-a6eb-b54345fcdb8c",
   "metadata": {},
   "outputs": [
    {
     "name": "stdout",
     "output_type": "stream",
     "text": [
      "0 1 2 3 4 6 7 8 9 \n",
      "0 1 2 3 4 5 6 7 8 9 "
     ]
    }
   ],
   "source": [
    "##### 3.15 break and continue Statements self check ##### \n",
    "for x in range(10):\n",
    "    if x == 5:\n",
    "        continue\n",
    "    print(x, end=' ')\n",
    "print() \n",
    "\n",
    "for x in range(10):\n",
    "    if x == 10:\n",
    "        break\n",
    "    print(x, end=' ')"
   ]
  },
  {
   "cell_type": "code",
   "execution_count": 11,
   "id": "181588ce-7eab-470b-9e0e-b4fb2a6aa171",
   "metadata": {},
   "outputs": [
    {
     "name": "stdout",
     "output_type": "stream",
     "text": [
      "True\n",
      "False\n",
      "True\n",
      "False\n",
      "False\n"
     ]
    }
   ],
   "source": [
    "##### 3.16 Boolean Operators and, or and not self check ##### \n",
    "i = 1\n",
    "j = 2\n",
    "k = 3\n",
    "m = 2\n",
    "print((i >= 1) and (j < 4))\n",
    "print((m <= 99) and (k < m))\n",
    "print((j >= i) or (k == m))\n",
    "print((k + m < j) or (3 - j >= k))\n",
    "print(not (k > m))"
   ]
  },
  {
   "cell_type": "code",
   "execution_count": 12,
   "id": "adaad1d3-936a-4d6f-8c78-993ff1b2c102",
   "metadata": {},
   "outputs": [
    {
     "name": "stdout",
     "output_type": "stream",
     "text": [
      "Mean: 79.16666666666667\n",
      "Median: 86.0\n",
      "Mode: 88\n"
     ]
    }
   ],
   "source": [
    "##### 3.17 Intro to Data Science: Measures of Central Tendency—Mean, Median and Mode self check ##### \n",
    "import statistics\n",
    "numList = [47, 95, 88, 73, 88, 84]\n",
    "print(\"Mean:\", statistics.mean(numList))\n",
    "print(\"Median:\", statistics.median(numList))\n",
    "print(\"Mode:\", statistics.mode(numList))"
   ]
  },
  {
   "cell_type": "markdown",
   "id": "2f384ae3-2cb2-45b0-ae9d-402e8e582284",
   "metadata": {},
   "source": [
    "\n",
    "\n",
    "### Questions"
   ]
  },
  {
   "cell_type": "code",
   "execution_count": 13,
   "id": "afb3e37b-2b00-4c97-bb36-0de88dfc541a",
   "metadata": {},
   "outputs": [
    {
     "name": "stdout",
     "output_type": "stream",
     "text": [
      "Count: 6\n",
      "Sum: 475\n",
      "Mean: 79.16666666666667\n"
     ]
    }
   ],
   "source": [
    "# 6. Calculate Measures of Central Tendency - Native Python\n",
    "'''\n",
    "Using the data provided in the Self Check on p 110-111, question 4, calculate:\n",
    "Count using built-in len()\n",
    "Sum using built-in sum()\n",
    "Mean by dividing sum() by len()\n",
    "Confirm you get the same answers provided. \n",
    "'''\n",
    "numList = [47, 95, 88, 73, 88, 84]\n",
    "c = len(numList)\n",
    "s = sum(numList)\n",
    "m = s / c\n",
    "print('Count:', c)\n",
    "print('Sum:', s)\n",
    "print('Mean:', m)"
   ]
  },
  {
   "cell_type": "code",
   "execution_count": 14,
   "id": "bfd51810-a8f9-421d-856a-265b47472f79",
   "metadata": {},
   "outputs": [
    {
     "name": "stdout",
     "output_type": "stream",
     "text": [
      "Mean: 79.16666666666667\n",
      "Median: 86.0\n",
      "Mode: 88\n"
     ]
    }
   ],
   "source": [
    "# 7. Calculate Measures of Central Tendency - with Statistic Module\n",
    "'''\n",
    "Using the same data as above, and by calling functions in the statistics module - calculate:\n",
    "Mean\n",
    "Median \n",
    "Mode\n",
    "Confirm you get the same answers provided.\n",
    "'''\n",
    "import statistics\n",
    "numList = [47, 95, 88, 73, 88, 84]\n",
    "mea = statistics.mean(numList)\n",
    "med = statistics.median(numList)\n",
    "mod = statistics.mode(numList)\n",
    "print(\"Mean:\", mea)\n",
    "print(\"Median:\", med)\n",
    "print(\"Mode:\", mod)"
   ]
  },
  {
   "cell_type": "code",
   "execution_count": 15,
   "id": "538ef25b-3f01-4236-a87c-291b9a7d345d",
   "metadata": {},
   "outputs": [
    {
     "name": "stdout",
     "output_type": "stream",
     "text": [
      "Data:\n",
      "0 1 2 3 4 \n",
      "Count: 5\n",
      "Sum: 10\n",
      "Mean: 2\n",
      "Median: 2\n",
      "Mode: 0\n"
     ]
    }
   ],
   "source": [
    "# 8. Custom Central Tendency\n",
    "'''\n",
    "Using your own set of data - from anywhere, made-up, example set, calculate:\n",
    "Count\n",
    "Sum\n",
    "Mean\n",
    "Median \n",
    "Mode\n",
    "Double-check your answers seem reasonable.\n",
    "Run the entire notebook. If any errors, fix them. Run again until it all works.\n",
    "Take a screen shot showing the results of your last custom execution (after running the whole notebook), showing your name and your unique work.  \n",
    "'''\n",
    "import statistics\n",
    "dataList = range(5)\n",
    "cnt = len(dataList)\n",
    "total = sum(dataList)\n",
    "mean1 = statistics.mean(dataList)\n",
    "median1 = statistics.median(dataList)\n",
    "mode1 = statistics.mode(dataList)\n",
    "\n",
    "print('Data:')\n",
    "for num in dataList:\n",
    "    print(num, end=' ')\n",
    "print()    \n",
    "print(\"Count:\", cnt)\n",
    "print(\"Sum:\", total)\n",
    "print(\"Mean:\", mean1)\n",
    "print(\"Median:\", median1)\n",
    "print(\"Mode:\", mode1)\n",
    "\n"
   ]
  },
  {
   "cell_type": "code",
   "execution_count": null,
   "id": "ffc63b40-1436-41ab-9d0e-760d3150e043",
   "metadata": {},
   "outputs": [],
   "source": []
  }
 ],
 "metadata": {
  "kernelspec": {
   "display_name": "Python 3 (ipykernel)",
   "language": "python",
   "name": "python3"
  },
  "language_info": {
   "codemirror_mode": {
    "name": "ipython",
    "version": 3
   },
   "file_extension": ".py",
   "mimetype": "text/x-python",
   "name": "python",
   "nbconvert_exporter": "python",
   "pygments_lexer": "ipython3",
   "version": "3.9.7"
  }
 },
 "nbformat": 4,
 "nbformat_minor": 5
}
