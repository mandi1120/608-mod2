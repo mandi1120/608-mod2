{
 "cells": [
  {
   "cell_type": "markdown",
   "id": "c7f79e08-eb52-4f57-8be9-f2b0048fc7f1",
   "metadata": {},
   "source": [
    "# Bonus"
   ]
  },
  {
   "cell_type": "code",
   "execution_count": 1,
   "id": "9422604a-bab1-4eb9-b389-741e433b8dab",
   "metadata": {},
   "outputs": [],
   "source": [
    "# Share a possible application for these skills at your work. \n",
    "# Create a second notebook illustrating your possible work application. \n",
    "# Create 100+ data points. Calculate len(), sum(), mean(), median(), mode() and display this in your notebook.  \n",
    "# Add the second file to your repo and git add  / commit / push again. \n",
    "# Display as a screen shot of this second notebook after running your calculations.  "
   ]
  },
  {
   "cell_type": "markdown",
   "id": "ee11d2b4-f739-4d9d-84b7-425bf1792379",
   "metadata": {},
   "source": [
    "### Application"
   ]
  },
  {
   "cell_type": "code",
   "execution_count": 2,
   "id": "dc983961-e2b4-427d-9652-e2dba5d715c8",
   "metadata": {},
   "outputs": [],
   "source": [
    "# A possible application for the skills in module 2 at my work could be around ER visits.\n",
    "# Given that we have data on 100 members and can identify the count of visits per member, \n",
    "# then we could use python to report the mean, median, and mode."
   ]
  },
  {
   "cell_type": "code",
   "execution_count": 4,
   "id": "2a1bbf4c-c69a-47ef-bf66-699e56e9dbaa",
   "metadata": {},
   "outputs": [
    {
     "name": "stdout",
     "output_type": "stream",
     "text": [
      "ER Visits for 100 Members:\n",
      "1 2 1 2 1 0 0 0 1 2 1 3 1 2 1 2 1 2 1 2 1 3 1 2 1 2 1 2 1 2 1 3 1 0 1 2 1 2 1 2 1 3 1 2 0 2 1 2 1 2 1 3 1 2 1 0 1 2 1 2 0 2 1 2 1 2 1 2 1 2 1 0 1 2 1 2 1 2 1 2 0 2 1 2 8 8 1 2 1 2 8 2 1 2 1 8 1 2 1 8 \n",
      "\n",
      "Count of members: 100\n",
      "Sum of ER visits: 173\n",
      "Mean: 1.73\n",
      "Median: 1.0\n",
      "Mode: 1\n"
     ]
    }
   ],
   "source": [
    "from statistics import mean\n",
    "from statistics import median\n",
    "from statistics import mode\n",
    "\n",
    "# Create 100+ data points. This is the number of visits for each member.\n",
    "erVisits = []\n",
    "for x in range(100):\n",
    "    if x in [5, 6, 7, 33, 44, 55, 60, 71, 80]:\n",
    "        erVisits.append(0)\n",
    "    elif x in [99, 95, 90, 85, 84]:\n",
    "        erVisits.append(8)\n",
    "    elif x % 2 == 0:\n",
    "        erVisits.append(1)\n",
    "    elif x in [11, 21, 31, 41, 51]:\n",
    "        erVisits.append(3)\n",
    "    else:\n",
    "        erVisits.append(2)\n",
    "# print(erVisits)\n",
    "\n",
    "# Calculate len(), sum(), mean(), median(), mode() \n",
    "memberCount = len(erVisits)\n",
    "totalVisits = sum(erVisits)\n",
    "erMean = mean(erVisits)\n",
    "erMedian = median(erVisits)\n",
    "erMode = mode(erVisits)\n",
    "\n",
    "# display\n",
    "print('ER Visits for 100 Members:')\n",
    "for x in erVisits:\n",
    "    print(x, end=' ')\n",
    "print()\n",
    "print()\n",
    "print(f'Count of members: {memberCount}')\n",
    "print(f'Sum of ER visits: {totalVisits}')\n",
    "print(f'Mean: {erMean}')\n",
    "print(f'Median: {erMedian}')\n",
    "print(f'Mode: {erMode}')\n"
   ]
  },
  {
   "cell_type": "code",
   "execution_count": null,
   "id": "a08d255b-a891-4c9b-9ca4-7593ce9df1b7",
   "metadata": {},
   "outputs": [],
   "source": []
  }
 ],
 "metadata": {
  "kernelspec": {
   "display_name": "Python 3 (ipykernel)",
   "language": "python",
   "name": "python3"
  },
  "language_info": {
   "codemirror_mode": {
    "name": "ipython",
    "version": 3
   },
   "file_extension": ".py",
   "mimetype": "text/x-python",
   "name": "python",
   "nbconvert_exporter": "python",
   "pygments_lexer": "ipython3",
   "version": "3.9.7"
  }
 },
 "nbformat": 4,
 "nbformat_minor": 5
}
